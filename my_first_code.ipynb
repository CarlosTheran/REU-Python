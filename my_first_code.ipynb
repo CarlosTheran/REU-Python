{
 "metadata": {
  "language_info": {
   "codemirror_mode": {
    "name": "ipython",
    "version": 3
   },
   "file_extension": ".py",
   "mimetype": "text/x-python",
   "name": "python",
   "nbconvert_exporter": "python",
   "pygments_lexer": "ipython3",
   "version": "3.9.2"
  },
  "orig_nbformat": 2,
  "kernelspec": {
   "name": "python3",
   "display_name": "Python 3.9.2 64-bit"
  },
  "interpreter": {
   "hash": "321a562c32c1ef0f4d1bce6724f96cbf5562b75820608d2935414fe72bdf9c83"
  }
 },
 "nbformat": 4,
 "nbformat_minor": 2,
 "cells": [
  {
   "cell_type": "code",
   "execution_count": 3,
   "metadata": {},
   "outputs": [
    {
     "output_type": "stream",
     "name": "stdout",
     "text": [
      "1\n<class 'int'>\n1000000000000000000000000000000000000000000000000000000000000000000000000001\n<class 'int'>\n"
     ]
    }
   ],
   "source": [
    "# Integers\n",
    "x = 1\n",
    "print(x)\n",
    "print(type(x))\n",
    "x = 1000000000000000000000000000000000000000000000000000000000000000000000000001\n",
    "print(x)\n",
    "print(type(x))"
   ]
  },
  {
   "cell_type": "code",
   "execution_count": 6,
   "metadata": {},
   "outputs": [
    {
     "output_type": "stream",
     "name": "stdout",
     "text": [
      "87\n<class 'int'>\n"
     ]
    }
   ],
   "source": [
    "age = int(input('Plase enter your age: '))\n",
    "print(age)\n",
    "print(type(age))"
   ]
  },
  {
   "cell_type": "code",
   "execution_count": 7,
   "metadata": {},
   "outputs": [
    {
     "output_type": "stream",
     "name": "stdout",
     "text": [
      "1.83\n<class 'float'>\n"
     ]
    }
   ],
   "source": [
    "# Floating Points \n",
    "exchange_rate = 1.83\n",
    "print(exchange_rate)\n",
    "print(type(exchange_rate))"
   ]
  },
  {
   "cell_type": "code",
   "execution_count": 9,
   "metadata": {},
   "outputs": [
    {
     "output_type": "stream",
     "name": "stdout",
     "text": [
      "int value as a float: 1.0\n<class 'float'>\nstring value as a float: 1.5\n<class 'float'>\n"
     ]
    }
   ],
   "source": [
    "# Converting to Floats\n",
    "int_value = 1\n",
    "string_value = '1.5'\n",
    "float_value = float(int_value)\n",
    "print('int value as a float:', float_value)\n",
    "print(type(float_value))\n",
    "float_value = float(string_value)\n",
    "print('string value as a float:', float_value)\n",
    "print(type(float_value))"
   ]
  },
  {
   "cell_type": "code",
   "execution_count": 10,
   "metadata": {},
   "outputs": [
    {
     "output_type": "stream",
     "name": "stdout",
     "text": [
      "2.3\n<class 'float'>\n"
     ]
    }
   ],
   "source": [
    "# Converting an Input String into a Floating Point Number\n",
    "exchange_rate = float(input('Please enter the exchange rate to use:'))\n",
    "print(exchange_rate)\n",
    "print(type(exchange_rate))"
   ]
  },
  {
   "cell_type": "code",
   "execution_count": 11,
   "metadata": {},
   "outputs": [
    {
     "output_type": "stream",
     "name": "stdout",
     "text": [
      "True\nFalse\n<class 'bool'>\n"
     ]
    }
   ],
   "source": [
    "# Boolean value\n",
    "all_ok = True\n",
    "print(all_ok)\n",
    "all_ok = False\n",
    "print(all_ok)\n",
    "print(type(all_ok))"
   ]
  },
  {
   "cell_type": "code",
   "execution_count": 12,
   "metadata": {},
   "outputs": [
    {
     "output_type": "stream",
     "name": "stdout",
     "text": [
      "True\n<class 'bool'>\n"
     ]
    }
   ],
   "source": [
    "# Convert string into Boolean\n",
    "status = bool(input('Ok to proceed:'))\n",
    "print(status)\n",
    "print(type(status))\n"
   ]
  },
  {
   "cell_type": "code",
   "execution_count": null,
   "metadata": {},
   "outputs": [],
   "source": [
    "home = 10\n",
    "away = 15\n",
    "print(home + away)\n",
    "print(type(home + away))\n",
    "print(10 * 4)\n",
    "print(type(10*4))\n",
    "goals_for = 10\n",
    "goals_against = 7\n",
    "print(goals_for - goals_against)\n",
    "print(type(goals_for - goals_against))\n"
   ]
  },
  {
   "cell_type": "code",
   "execution_count": null,
   "metadata": {},
   "outputs": [],
   "source": [
    "print(100 / 20)\n",
    "print(type(100 / 20))\n"
   ]
  },
  {
   "cell_type": "code",
   "execution_count": null,
   "metadata": {},
   "outputs": [],
   "source": [
    "num = int(input('Enter a number: '))\n",
    "if num < 0:\n",
    "   print(num, 'is negative')\n"
   ]
  },
  {
   "cell_type": "code",
   "execution_count": null,
   "metadata": {},
   "outputs": [],
   "source": [
    "num = int(input('Enter another number: '))\n",
    "if num > 0:\n",
    " print(num, 'is positive')\n",
    " print(num, 'squared is ', num * num)\n",
    "print('Bye')\n"
   ]
  },
  {
   "cell_type": "code",
   "execution_count": null,
   "metadata": {},
   "outputs": [],
   "source": [
    "savings = float(input(\"Enter how much you have in savings: \"))\n",
    "if savings == 0:\n",
    " print(\"Sorry no savings\")\n",
    "elif savings < 500:\n",
    " print('Well done')\n",
    "elif savings < 1000:\n",
    " print('Thats a tidy sum')\n",
    "elif savings < 10000:\n",
    " print('Welcome Sir!')\n",
    "else:\n",
    " print('Thank you')\n"
   ]
  },
  {
   "cell_type": "code",
   "execution_count": null,
   "metadata": {},
   "outputs": [],
   "source": [
    "age = 15\n",
    "status = None\n",
    "if (age > 12) and age < 20:\n",
    " status = 'teenager'\n",
    "else:\n",
    " status = 'not teenager'\n",
    "print(status)\n"
   ]
  },
  {
   "cell_type": "code",
   "execution_count": 4,
   "metadata": {},
   "outputs": [
    {
     "output_type": "stream",
     "name": "stdout",
     "text": [
      "Bye\n"
     ]
    }
   ],
   "source": [
    "# Nesting If Statements\n",
    "snowing  = False\n",
    "temp = 85\n",
    "if temp < 65:\n",
    "   print('It is freezing')\n",
    "   if snowing: \n",
    "      print('Put on boots')\n",
    "      print('Time for Hot Chocolate')\n",
    "print('Bye') \n",
    "\n"
   ]
  },
  {
   "cell_type": "code",
   "execution_count": 6,
   "metadata": {},
   "outputs": [
    {
     "output_type": "stream",
     "name": "stdout",
     "text": [
      "Starting\n0  1  2  3  4  5  6  7  8  9  Done\n"
     ]
    }
   ],
   "source": [
    "count = 0\n",
    "print('Starting')\n",
    "while count < 10:\n",
    "    print(count,'',end=' ')\n",
    "    count += 1\n",
    "print('Done')"
   ]
  },
  {
   "cell_type": "code",
   "execution_count": 8,
   "metadata": {},
   "outputs": [
    {
     "output_type": "stream",
     "name": "stdout",
     "text": [
      "Print out values in a range\n0   1   2   3   4   5   6   7   8   9   Done\n"
     ]
    }
   ],
   "source": [
    "print('Print out values in a range')\n",
    "for i in range(0,10):\n",
    "   print(i, ' ', end=' ')\n",
    "print('Done')   "
   ]
  },
  {
   "cell_type": "code",
   "execution_count": 11,
   "metadata": {},
   "outputs": [
    {
     "output_type": "stream",
     "name": "stdout",
     "text": [
      "Only print code if all iterations competed\n",
      "0   1   2   3   4   5   Done\n"
     ]
    }
   ],
   "source": [
    "# Break Loop Statemets\n",
    "print('Only print code if all iterations competed')\n",
    "num = int(input('Enter a number to check for: '))\n",
    "for i in range(0,6):\n",
    "    if i==num:\n",
    "       break\n",
    "    print(i,' ',end=' ')\n",
    "print('Done')     "
   ]
  },
  {
   "cell_type": "code",
   "execution_count": 18,
   "metadata": {},
   "outputs": [
    {
     "output_type": "stream",
     "name": "stdout",
     "text": [
      "0 \n\nhey its an even number\nwe love even numer\n1 \n\n2 \n\nhey its an even number\nwe love even numer\n3 \n\n4 \n\nhey its an even number\nwe love even numer\n5 \n\n6 \n\nhey its an even number\nwe love even numer\n7 \n\n8 \n\nhey its an even number\nwe love even numer\n9 \n\nDone\n"
     ]
    }
   ],
   "source": [
    "#Continue Loop Statements\n",
    "for i in range(0,10):\n",
    "  print(i,'\\n')\n",
    "  if i%2==1:\n",
    "     continue\n",
    "  print('hey its an even number')\n",
    "  print('we love even numer')\n",
    "print('Done')       "
   ]
  },
  {
   "cell_type": "code",
   "execution_count": 24,
   "metadata": {},
   "outputs": [
    {
     "output_type": "execute_result",
     "data": {
      "text/plain": [
       "['orange',\n",
       " 'apple',\n",
       " 'orange',\n",
       " 'pear',\n",
       " 'banana',\n",
       " 'kiwi',\n",
       " 'apple',\n",
       " 'banana',\n",
       " 'kiwi']"
      ]
     },
     "metadata": {},
     "execution_count": 24
    }
   ],
   "source": [
    "#Creating a List\n",
    "fruits = ['orange', 'apple', 'pear', 'banana', 'kiwi', 'apple', 'banana']\n",
    "fruits.append('kiwi')\n",
    "fruits.insert(2,'orange')\n",
    "fruits"
   ]
  },
  {
   "cell_type": "code",
   "execution_count": 25,
   "metadata": {},
   "outputs": [
    {
     "output_type": "execute_result",
     "data": {
      "text/plain": [
       "['orange', 'apple', 'orange', 'banana', 'kiwi', 'apple', 'banana', 'kiwi']"
      ]
     },
     "metadata": {},
     "execution_count": 25
    }
   ],
   "source": [
    "fruits.remove('pear')\n",
    "fruits\n"
   ]
  },
  {
   "cell_type": "code",
   "execution_count": 26,
   "metadata": {},
   "outputs": [
    {
     "output_type": "execute_result",
     "data": {
      "text/plain": [
       "['orange', 'apple', 'orange', 'kiwi', 'apple', 'banana', 'kiwi']"
      ]
     },
     "metadata": {},
     "execution_count": 26
    }
   ],
   "source": [
    "fruits.pop(3)\n",
    "fruits"
   ]
  },
  {
   "cell_type": "code",
   "execution_count": 29,
   "metadata": {},
   "outputs": [
    {
     "output_type": "execute_result",
     "data": {
      "text/plain": [
       "['kiwi', 'banana', 'apple', 'kiwi', 'orange', 'apple', 'orange']"
      ]
     },
     "metadata": {},
     "execution_count": 29
    }
   ],
   "source": [
    "fruits.reverse()\n",
    "fruits"
   ]
  },
  {
   "cell_type": "code",
   "execution_count": 30,
   "metadata": {},
   "outputs": [
    {
     "output_type": "execute_result",
     "data": {
      "text/plain": [
       "{'jack': 4098, 'sape': 4139}"
      ]
     },
     "metadata": {},
     "execution_count": 30
    }
   ],
   "source": [
    "#Dictionaries\n",
    "tel = {'jack':4098, 'sape':4139}\n",
    "tel"
   ]
  },
  {
   "cell_type": "code",
   "execution_count": 31,
   "metadata": {},
   "outputs": [
    {
     "output_type": "execute_result",
     "data": {
      "text/plain": [
       "{'jack': 4098, 'sape': 4139, 'guido': 4127}"
      ]
     },
     "metadata": {},
     "execution_count": 31
    }
   ],
   "source": [
    "tel['guido']=4127\n",
    "tel"
   ]
  },
  {
   "cell_type": "code",
   "execution_count": 33,
   "metadata": {},
   "outputs": [
    {
     "output_type": "execute_result",
     "data": {
      "text/plain": [
       "{'jack': 4098, 'guido': 4127}"
      ]
     },
     "metadata": {},
     "execution_count": 33
    }
   ],
   "source": [
    "tel['jack']\n",
    "del tel['sape']\n",
    "tel"
   ]
  },
  {
   "cell_type": "code",
   "execution_count": 34,
   "metadata": {},
   "outputs": [
    {
     "output_type": "execute_result",
     "data": {
      "text/plain": [
       "['jack', 'guido']"
      ]
     },
     "metadata": {},
     "execution_count": 34
    }
   ],
   "source": [
    "list(tel)"
   ]
  },
  {
   "cell_type": "code",
   "execution_count": 35,
   "metadata": {},
   "outputs": [
    {
     "output_type": "execute_result",
     "data": {
      "text/plain": [
       "['guido', 'jack']"
      ]
     },
     "metadata": {},
     "execution_count": 35
    }
   ],
   "source": [
    "sorted(tel)"
   ]
  },
  {
   "cell_type": "code",
   "execution_count": 36,
   "metadata": {},
   "outputs": [
    {
     "output_type": "stream",
     "name": "stdout",
     "text": [
      "gallahad the pure\nrobin the brave\n"
     ]
    }
   ],
   "source": [
    "knight = {'gallahad':'the pure', 'robin':'the brave'}\n",
    "for k, v in knight.items():\n",
    "    print(k,v)"
   ]
  },
  {
   "cell_type": "code",
   "execution_count": 37,
   "metadata": {},
   "outputs": [
    {
     "output_type": "execute_result",
     "data": {
      "text/plain": [
       "'Ford'"
      ]
     },
     "metadata": {},
     "execution_count": 37
    }
   ],
   "source": [
    "thisdict = {'brand':'Ford', 'electric':False, 'Year': 1964, 'colors':['red','white','blue']}\n",
    "thisdict['brand']"
   ]
  },
  {
   "cell_type": "code",
   "execution_count": 38,
   "metadata": {},
   "outputs": [
    {
     "output_type": "execute_result",
     "data": {
      "text/plain": [
       "False"
      ]
     },
     "metadata": {},
     "execution_count": 38
    }
   ],
   "source": [
    "thisdict['electric']"
   ]
  },
  {
   "cell_type": "code",
   "execution_count": 42,
   "metadata": {},
   "outputs": [
    {
     "output_type": "execute_result",
     "data": {
      "text/plain": [
       "'blue'"
      ]
     },
     "metadata": {},
     "execution_count": 42
    }
   ],
   "source": [
    "thisdict['colors'][2]"
   ]
  },
  {
   "cell_type": "code",
   "execution_count": null,
   "metadata": {},
   "outputs": [],
   "source": []
  }
 ]
}