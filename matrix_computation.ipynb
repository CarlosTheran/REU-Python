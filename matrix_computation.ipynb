{
 "metadata": {
  "language_info": {
   "codemirror_mode": {
    "name": "ipython",
    "version": 3
   },
   "file_extension": ".py",
   "mimetype": "text/x-python",
   "name": "python",
   "nbconvert_exporter": "python",
   "pygments_lexer": "ipython3",
   "version": "3.9.2"
  },
  "orig_nbformat": 4,
  "kernelspec": {
   "name": "python3",
   "display_name": "Python 3.9.2 64-bit"
  },
  "interpreter": {
   "hash": "321a562c32c1ef0f4d1bce6724f96cbf5562b75820608d2935414fe72bdf9c83"
  }
 },
 "nbformat": 4,
 "nbformat_minor": 2,
 "cells": [
  {
   "cell_type": "code",
   "execution_count": 1,
   "metadata": {},
   "outputs": [],
   "source": [
    "# import numpy library\n",
    "import numpy as np "
   ]
  },
  {
   "cell_type": "code",
   "execution_count": 4,
   "metadata": {},
   "outputs": [
    {
     "output_type": "stream",
     "name": "stdout",
     "text": [
      "[[1 5 6]\n [8 5 9]\n [1 0 3]] \n\n[[12 20 -3]\n [ 5 -8  5]\n [ 6  9 17]]\n"
     ]
    }
   ],
   "source": [
    "#Create two square matrix\n",
    "X = np.array([[1,5,6],[8,5,9],[1,0,3]])\n",
    "Z = np.array([[12,20,-3],[5,-8,5],[6,9,17]])\n",
    "print(X,'\\n')\n",
    "print(Z)"
   ]
  },
  {
   "cell_type": "code",
   "execution_count": 5,
   "metadata": {},
   "outputs": [
    {
     "output_type": "stream",
     "name": "stdout",
     "text": [
      "[[13 25  3]\n [13 -3 14]\n [ 7  9 20]] \n\n[[-11 -15   9]\n [  3  13   4]\n [ -5  -9 -14]]\n"
     ]
    }
   ],
   "source": [
    "#Add and sustract the matrices X and Z\n",
    "r_added = X.__add__(Z)\n",
    "r_sustract = X.__sub__(Z)\n",
    "print(r_added,'\\n')\n",
    "print(r_sustract)"
   ]
  },
  {
   "cell_type": "code",
   "execution_count": 6,
   "metadata": {},
   "outputs": [
    {
     "output_type": "stream",
     "name": "stdout",
     "text": [
      "[[ 12 100 -18]\n [ 40 -40  45]\n [  6   0  51]] \n\n[[ 73  34 124]\n [175 201 154]\n [ 30  47  48]]\n"
     ]
    }
   ],
   "source": [
    "#piecewise multiplication and Multiplication of two matrices\n",
    "r_priecewise = X.__mul__(Z)\n",
    "r_mul = X.__matmul__(Z)\n",
    "print(r_priecewise,'\\n')\n",
    "print(r_mul)"
   ]
  },
  {
   "cell_type": "code",
   "execution_count": 8,
   "metadata": {},
   "outputs": [],
   "source": [
    "# create the matrix for chemist's problem\n",
    "A = np.array([[1,1],[10,35]])\n",
    "b = np.array([[2],[30]])"
   ]
  },
  {
   "cell_type": "code",
   "execution_count": 9,
   "metadata": {},
   "outputs": [
    {
     "output_type": "stream",
     "name": "stdout",
     "text": [
      "dim. of matrix A =  (2, 2)\ndim. of vector b =  (2, 1)\n"
     ]
    }
   ],
   "source": [
    "# Verify the size of matrix A and size of vector b\n",
    "print('dim. of matrix A = ',A.shape)\n",
    "print('dim. of vector b = ',b.shape)"
   ]
  },
  {
   "cell_type": "code",
   "execution_count": 10,
   "metadata": {},
   "outputs": [
    {
     "output_type": "execute_result",
     "data": {
      "text/plain": [
       "25.000000000000007"
      ]
     },
     "metadata": {},
     "execution_count": 10
    }
   ],
   "source": [
    "# The det(A) !=0 ?\n",
    "np.linalg.det(A)"
   ]
  },
  {
   "cell_type": "code",
   "execution_count": 11,
   "metadata": {},
   "outputs": [
    {
     "output_type": "stream",
     "name": "stdout",
     "text": [
      "[[ 1.4  -0.04]\n [-0.4   0.04]]\n"
     ]
    }
   ],
   "source": [
    "# lets find the solution\n",
    "inv_A = np.linalg.inv(A)\n",
    "print(inv_A)"
   ]
  },
  {
   "cell_type": "code",
   "execution_count": 13,
   "metadata": {},
   "outputs": [
    {
     "output_type": "stream",
     "name": "stdout",
     "text": [
      "The solution is [[1.6]\n [0.4]]\n"
     ]
    }
   ],
   "source": [
    "# Fiding the results\n",
    "x = inv_A.dot(b)\n",
    "print('The solution is',x)"
   ]
  },
  {
   "cell_type": "code",
   "execution_count": 16,
   "metadata": {},
   "outputs": [
    {
     "output_type": "stream",
     "name": "stdout",
     "text": [
      "Matrix B =\n [[ 1  2  6]\n [ 1 -1  4]\n [ 2  1  5]]\nvector b =\n [[ 8]\n [ 5]\n [13]]\n"
     ]
    }
   ],
   "source": [
    "# Define the matrix B\n",
    "B = np.array([[1,2,6],[1,-1,4],[2,1,5]])\n",
    "b = np.array([[8],[5],[13]])\n",
    "print('Matrix B =\\n',B)\n",
    "print('vector b =\\n',b)\n"
   ]
  },
  {
   "cell_type": "code",
   "execution_count": 17,
   "metadata": {},
   "outputs": [
    {
     "output_type": "stream",
     "name": "stdout",
     "text": [
      "14.999999999999993\n"
     ]
    }
   ],
   "source": [
    "# computing the det. of B\n",
    "print(np.linalg.det(B))"
   ]
  },
  {
   "cell_type": "code",
   "execution_count": 18,
   "metadata": {},
   "outputs": [],
   "source": [
    "# find the inverse\n",
    "inv_B = np.linalg.inv(B)"
   ]
  },
  {
   "cell_type": "code",
   "execution_count": 19,
   "metadata": {},
   "outputs": [
    {
     "output_type": "stream",
     "name": "stdout",
     "text": [
      "Solution is  [[6.]\n [1.]\n [0.]]\n"
     ]
    }
   ],
   "source": [
    "X = inv_B.dot(b)\n",
    "print('Solution is ', X)"
   ]
  },
  {
   "cell_type": "code",
   "execution_count": 21,
   "metadata": {},
   "outputs": [
    {
     "output_type": "stream",
     "name": "stdout",
     "text": [
      "The equation 1 was satisfied\n"
     ]
    }
   ],
   "source": [
    "# checking your results\n",
    "x1 = 6\n",
    "x2 = 1\n",
    "x3 = 0\n",
    "if (x1+2*x2+6*x3==8):\n",
    "   print('The equation 1 was satisfied')\n",
    "else:\n",
    "   print('The equation 1 was not satisfied')   "
   ]
  },
  {
   "cell_type": "code",
   "execution_count": null,
   "metadata": {},
   "outputs": [],
   "source": []
  }
 ]
}